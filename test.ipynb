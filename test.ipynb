{
 "cells": [
  {
   "cell_type": "markdown",
   "metadata": {},
   "source": [
    "# ALL installs "
   ]
  },
  {
   "cell_type": "code",
   "execution_count": 45,
   "metadata": {},
   "outputs": [],
   "source": [
    "# ! pip install requests\"\n",
    "# ! pip install kafka-python\n",
    "# ! pip install pyspark\n",
    "# !pip  install -r requirements.txt"
   ]
  },
  {
   "cell_type": "code",
   "execution_count": 46,
   "metadata": {},
   "outputs": [],
   "source": [
    "!pip freeze > requirements.txt\n"
   ]
  },
  {
   "cell_type": "markdown",
   "metadata": {},
   "source": [
    "# ALL imports"
   ]
  },
  {
   "cell_type": "code",
   "execution_count": 47,
   "metadata": {},
   "outputs": [],
   "source": [
    "from allsecrets import *\n",
    "from titles import *\n",
    "from coordinates import *\n",
    "import json,requests\n",
    "from json import dumps,loads \n",
    "#dumps converts python object to json string\n",
    "#loads converts json string to python object\n",
    "from kafka import KafkaProducer, KafkaConsumer\n",
    "\n",
    "\n"
   ]
  },
  {
   "cell_type": "code",
   "execution_count": 48,
   "metadata": {},
   "outputs": [],
   "source": [
    "from pyspark.sql import SparkSession , functions as F\n",
    "\n",
    "from pyspark.sql.functions import udf,col,countDistinct,date_format,row_number\n",
    "\n",
    "from pyspark.sql.types import FloatType\n",
    "\n",
    "from pyspark.sql.window import Window \n",
    "\n",
    "spark = SparkSession.builder.appName('OMDB')\\\n",
    "    .getOrCreate()\n",
    "\n"
   ]
  },
  {
   "cell_type": "markdown",
   "metadata": {},
   "source": [
    "## Json print function"
   ]
  },
  {
   "cell_type": "code",
   "execution_count": 49,
   "metadata": {},
   "outputs": [],
   "source": [
    "def json_print(json_object):\n",
    "    text = json.dumps(json_object, sort_keys=True, indent=4) # sort_keys=True means sort the keys in alphabetical order\n",
    "    # indent 4 means 4 spaces for each indentation\n",
    "    print(text)"
   ]
  },
  {
   "cell_type": "markdown",
   "metadata": {},
   "source": [
    "## OMDB dataset"
   ]
  },
  {
   "cell_type": "code",
   "execution_count": 50,
   "metadata": {},
   "outputs": [],
   "source": [
    "# # http://www.omdbapi.com/?i=tt3896198&apikey=******* # api key for    OMBD API\n",
    "\n",
    "# parameters = {'t':'top gun maverick', \"apikey\": ombd_api} \n",
    "# OMDB_response = requests.get(\"http://www.omdbapi.com/\", params=parameters)\n",
    "# # print url\n",
    "# print(OMDB_response.url)\n",
    "# print(OMDB_response.status_code)\n",
    "# json_print(OMDB_response.json())\n"
   ]
  },
  {
   "cell_type": "code",
   "execution_count": 51,
   "metadata": {},
   "outputs": [],
   "source": [
    "# # http://www.omdbapi.com/?i=tt3896198&apikey=******* # api key for    OMBD API\n",
    "\n",
    "# for title in titles:\n",
    "#     parameters = {'t': title, \"apikey\": ombd_api}\n",
    "#     OMDB_response = requests.get(\"http://www.omdbapi.com/\", params=parameters)\n",
    "#     print(OMDB_response.status_code)\n",
    "#     json_print(OMDB_response.json())"
   ]
  },
  {
   "cell_type": "markdown",
   "metadata": {},
   "source": [
    "## Openweather 5 days 3 hour forcast"
   ]
  },
  {
   "cell_type": "code",
   "execution_count": 55,
   "metadata": {},
   "outputs": [
    {
     "data": {
      "text/plain": [
       "StructType([StructField('city', StructType([StructField('coord', StructType([StructField('lat', DoubleType(), True), StructField('lon', DoubleType(), True)]), True), StructField('country', StringType(), True), StructField('id', LongType(), True), StructField('name', StringType(), True), StructField('population', LongType(), True), StructField('sunrise', LongType(), True), StructField('sunset', LongType(), True), StructField('timezone', LongType(), True)]), True), StructField('cnt', LongType(), True), StructField('cod', StringType(), True), StructField('list', ArrayType(StructType([StructField('clouds', StructType([StructField('all', LongType(), True)]), True), StructField('dt', LongType(), True), StructField('dt_txt', StringType(), True), StructField('main', StructType([StructField('feels_like', DoubleType(), True), StructField('grnd_level', LongType(), True), StructField('humidity', LongType(), True), StructField('pressure', LongType(), True), StructField('sea_level', LongType(), True), StructField('temp', DoubleType(), True), StructField('temp_kf', DoubleType(), True), StructField('temp_max', DoubleType(), True), StructField('temp_min', DoubleType(), True)]), True), StructField('pop', DoubleType(), True), StructField('rain', StructType([StructField('3h', DoubleType(), True)]), True), StructField('sys', StructType([StructField('pod', StringType(), True)]), True), StructField('visibility', LongType(), True), StructField('weather', ArrayType(StructType([StructField('description', StringType(), True), StructField('icon', StringType(), True), StructField('id', LongType(), True), StructField('main', StringType(), True)]), True), True), StructField('wind', StructType([StructField('deg', LongType(), True), StructField('gust', DoubleType(), True), StructField('speed', DoubleType(), True)]), True)]), True), True), StructField('message', LongType(), True)])"
      ]
     },
     "execution_count": 55,
     "metadata": {},
     "output_type": "execute_result"
    }
   ],
   "source": [
    "\n",
    "parameters = {'lat': '27.7167', \"lon\": '85.3667', \"appid\": open_weather_api}\n",
    "sample_response = requests.get(\"http://api.openweathermap.org/data/2.5/forecast\", params=parameters)\n",
    "\n",
    "\n",
    "\n",
    "weather_rdd= spark.sparkContext.parallelize([json.dumps(sample_response.json()) ]) # convert to rdd\n",
    "\n",
    "#convert to spark dataframe\n",
    "weather_df = spark.read.json(weather_rdd) # convert to spark dataframe\n",
    "\n",
    "schema_weather = weather_df.schema # get the schema of the dataframe\n",
    "\n",
    "#  save  schema_weather  to .json file\n",
    "with open('schema_weather.json', 'w') as f:\n",
    "    json.dump(schema_weather.jsonValue(), f, indent=4)\n",
    "\n",
    "#  load  schema_weather  from .json file\n",
    "with open('schema_weather.json', 'r') as f:\n",
    "    schema_weather1 = F.StructType.fromJson(json.load(f)) \n",
    "\n",
    "schema_weather1\n"
   ]
  },
  {
   "cell_type": "code",
   "execution_count": 52,
   "metadata": {},
   "outputs": [
    {
     "name": "stdout",
     "output_type": "stream",
     "text": [
      "http://api.openweathermap.org/data/2.5/forecast?lat=27.7167&lon=85.3667&appid=8cf7d4ce0b67a86cf3b125bc5c552a6d\n",
      "200\n",
      "http://api.openweathermap.org/data/2.5/forecast?lat=28.2097&lon=83.985&appid=8cf7d4ce0b67a86cf3b125bc5c552a6d\n",
      "200\n"
     ]
    }
   ],
   "source": [
    "#api.openweathermap.org/data/2.5/forecast?lat={lat}&lon={lon}&appid={API key}\n",
    "\n",
    "for lat ,lon in lat_lon.items():\n",
    "    parameters = {'lat': lat, \"lon\": lon, \"appid\": open_weather_api}\n",
    "    weather_response = requests.get(\"http://api.openweathermap.org/data/2.5/forecast\", params=parameters)\n",
    "    print (weather_response.url)\n",
    "    print(weather_response.status_code)\n",
    "    # json_print(weather_response.json())\n",
    "\n"
   ]
  },
  {
   "cell_type": "markdown",
   "metadata": {},
   "source": [
    "# Test produces and consumer"
   ]
  },
  {
   "cell_type": "markdown",
   "metadata": {},
   "source": [
    "## Test producer"
   ]
  },
  {
   "cell_type": "code",
   "execution_count": null,
   "metadata": {},
   "outputs": [],
   "source": [
    "# zookeeper and kafka broker should be running in the background\n",
    "producer = KafkaProducer(bootstrap_servers=['localhost:9092'], value_serializer=lambda x: dumps(x).encode('utf-8'))\n",
    "#value_serializer=lambda x: dumps(x).encode('utf-8') is used to convert the data into json format\n",
    "\n",
    "# send the Weather_response to the topic named Weather\n",
    "producer.send('WEATHER', value=Weather_response.json())\n",
    "\n",
    "# flush the messages to the topic\n",
    "producer.flush() # flush() is a blocking function which ensures all the messages are sent to the topic\n"
   ]
  },
  {
   "cell_type": "markdown",
   "metadata": {},
   "source": [
    "## Test consumer"
   ]
  },
  {
   "cell_type": "code",
   "execution_count": 32,
   "metadata": {},
   "outputs": [],
   "source": [
    "# create consumer\n",
    "Consumer = KafkaConsumer('weather', bootstrap_servers=['localhost:9092'], auto_offset_reset='earliest',\n",
    "                                 enable_auto_commit=True, value_deserializer=lambda x: loads(x.decode('utf-8')))\n"
   ]
  },
  {
   "cell_type": "code",
   "execution_count": null,
   "metadata": {},
   "outputs": [],
   "source": [
    "# close consumer to free up resources after reading the messages\n",
    "Consumer.close()"
   ]
  },
  {
   "cell_type": "code",
   "execution_count": 38,
   "metadata": {},
   "outputs": [
    {
     "data": {
      "text/plain": [
       "{'_confluent-command',\n",
       " '_confluent-telemetry-metrics',\n",
       " '_confluent_balancer_api_state',\n",
       " '_confluent_balancer_broker_samples',\n",
       " '_confluent_balancer_partition_samples',\n",
       " 'weather'}"
      ]
     },
     "execution_count": 38,
     "metadata": {},
     "output_type": "execute_result"
    }
   ],
   "source": [
    "Consumer.topics()"
   ]
  },
  {
   "cell_type": "code",
   "execution_count": 34,
   "metadata": {},
   "outputs": [
    {
     "data": {
      "text/plain": [
       "{'weather'}"
      ]
     },
     "execution_count": 34,
     "metadata": {},
     "output_type": "execute_result"
    }
   ],
   "source": [
    "Consumer.subscribe(['weather'])\n",
    "Consumer.subscription()\n"
   ]
  },
  {
   "cell_type": "code",
   "execution_count": 25,
   "metadata": {},
   "outputs": [
    {
     "name": "stdout",
     "output_type": "stream",
     "text": [
      "Created topic weather.\n"
     ]
    }
   ],
   "source": [
    "# create topic\n",
    "! kafka-topics --bootstrap-server localhost:9092 --create --topic weather --replication-factor 1 --partitions 1\n",
    "\n"
   ]
  },
  {
   "cell_type": "code",
   "execution_count": 35,
   "metadata": {},
   "outputs": [],
   "source": [
    "# delete topic\n",
    "! kafka-topics --bootstrap-server localhost:9092 --delete --topic weather"
   ]
  },
  {
   "cell_type": "code",
   "execution_count": null,
   "metadata": {},
   "outputs": [],
   "source": []
  }
 ],
 "metadata": {
  "kernelspec": {
   "display_name": "Python 3.10.6 ('ENV_SPARK': venv)",
   "language": "python",
   "name": "python3"
  },
  "language_info": {
   "codemirror_mode": {
    "name": "ipython",
    "version": 3
   },
   "file_extension": ".py",
   "mimetype": "text/x-python",
   "name": "python",
   "nbconvert_exporter": "python",
   "pygments_lexer": "ipython3",
   "version": "3.10.6"
  },
  "orig_nbformat": 4,
  "vscode": {
   "interpreter": {
    "hash": "2214088c3d0387d9d6dcbb7c6a9ab667498cf089874e7aaa07c32225f40a1e68"
   }
  }
 },
 "nbformat": 4,
 "nbformat_minor": 2
}
