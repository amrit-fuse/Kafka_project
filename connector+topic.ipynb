{
 "cells": [
  {
   "cell_type": "code",
   "execution_count": 63,
   "metadata": {},
   "outputs": [],
   "source": [
    "import requests"
   ]
  },
  {
   "cell_type": "code",
   "execution_count": 64,
   "metadata": {},
   "outputs": [
    {
     "name": "stdout",
     "output_type": "stream",
     "text": [
      "['Q3_min_night-sink']\n"
     ]
    }
   ],
   "source": [
    "#list all connectors\n",
    "response = requests.get(\"http://localhost:8083/connectors\")\n",
    "print(response.json())"
   ]
  },
  {
   "cell_type": "code",
   "execution_count": 65,
   "metadata": {},
   "outputs": [],
   "source": [
    "# delete all the connector\n",
    "response = requests.get(\"http://localhost:8083/connectors\")\n",
    "for connector in response.json():\n",
    "    response = requests.delete(\"http://localhost:8083/connectors/\"+connector)\n"
   ]
  },
  {
   "cell_type": "code",
   "execution_count": 66,
   "metadata": {},
   "outputs": [
    {
     "name": "stdout",
     "output_type": "stream",
     "text": [
      "Error while executing topic command : Topic 'Q1_cleaned' does not exist as expected\n",
      "[2022-11-18 13:54:24,054] ERROR java.lang.IllegalArgumentException: Topic 'Q1_cleaned' does not exist as expected\n",
      "\tat kafka.admin.TopicCommand$.kafka$admin$TopicCommand$$ensureTopicExists(TopicCommand.scala:449)\n",
      "\tat kafka.admin.TopicCommand$TopicService.deleteTopic(TopicCommand.scala:409)\n",
      "\tat kafka.admin.TopicCommand$.main(TopicCommand.scala:64)\n",
      "\tat kafka.admin.TopicCommand.main(TopicCommand.scala)\n",
      " (kafka.admin.TopicCommand$)\n"
     ]
    }
   ],
   "source": [
    "# delete topics\n",
    "! kafka-topics --bootstrap-server localhost:9092 --delete --topic Q1_cleaned\n",
    "! kafka-topics --bootstrap-server localhost:9092 --delete --topic Q2_max\n",
    "! kafka-topics --bootstrap-server localhost:9092 --delete --topic Q3_min_night\n"
   ]
  },
  {
   "cell_type": "code",
   "execution_count": null,
   "metadata": {},
   "outputs": [],
   "source": [
    "# delete topic\n",
    "# ! kafka-topics --bootstrap-server localhost:9092 --delete --topic weather"
   ]
  },
  {
   "cell_type": "code",
   "execution_count": null,
   "metadata": {},
   "outputs": [],
   "source": []
  }
 ],
 "metadata": {
  "kernelspec": {
   "display_name": "Python 3.10.6 ('ENV_SPARK': venv)",
   "language": "python",
   "name": "python3"
  },
  "language_info": {
   "codemirror_mode": {
    "name": "ipython",
    "version": 3
   },
   "file_extension": ".py",
   "mimetype": "text/x-python",
   "name": "python",
   "nbconvert_exporter": "python",
   "pygments_lexer": "ipython3",
   "version": "3.10.6"
  },
  "orig_nbformat": 4,
  "vscode": {
   "interpreter": {
    "hash": "2214088c3d0387d9d6dcbb7c6a9ab667498cf089874e7aaa07c32225f40a1e68"
   }
  }
 },
 "nbformat": 4,
 "nbformat_minor": 2
}
